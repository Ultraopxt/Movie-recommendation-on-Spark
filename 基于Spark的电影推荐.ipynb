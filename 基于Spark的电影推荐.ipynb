{
 "cells": [
  {
   "cell_type": "markdown",
   "metadata": {},
   "source": [
    "# 基于Spark的电影推荐"
   ]
  },
  {
   "cell_type": "markdown",
   "metadata": {},
   "source": [
    "本例在pyspark中使用交替最小二乘法ALS来实现协同过滤推荐主要原因是它支持稀疏的输入数据（用户对物品评分是稀疏矩阵）。ALS算法常用于基于矩阵分解（或基于隐语义模型算法）的推荐系统中，例如：使用矩阵分解将用户矩阵分解为用户和隐类之间的关系矩阵，物品和隐类之间的关系矩阵的积，换句话说：首先对物品进行聚类分析，并计算出物品属于每个隐类的权重；然后，确定用户对哪一隐含类别特别感兴趣，在该类中，选择权重高的物品推荐给客户。ALS在最小化损失函数时，基本思想是：固定其中一类参数，使其变为单变量优化问题，利用解析方法进行优化（即求偏导），在反过来，固定先前优化的参数，再优化另一组参数；迭代进行，直到收敛。"
   ]
  },
  {
   "cell_type": "code",
   "execution_count": 1,
   "metadata": {},
   "outputs": [],
   "source": [
    "import os\n",
    "import math\n",
    "import time\n",
    "from pyspark import SparkContext\n",
    "from pyspark.sql import SQLContext, Row, SparkSession\n",
    "from pyspark.mllib.recommendation import ALS\n",
    "\n",
    "sc = SparkContext()\n",
    "\n",
    "#文件访问\n",
    "small_raw_data = sc.textFile('ratings.csv')\n",
    "small_data = small_raw_data.map(lambda line: line.split(\",\")).map(lambda col: (col[0], col[1], col[2])).cache()"
   ]
  },
  {
   "cell_type": "code",
   "execution_count": 2,
   "metadata": {},
   "outputs": [],
   "source": [
    "#按照6:2:2分为训练集、验证集、测试集\n",
    "training_RDD, validation_RDD, test_RDD = small_data.randomSplit([6, 2, 2], seed=10)\n",
    "validation_predict_RDD = validation_RDD.map(lambda x: (x[0], x[1]))\n",
    "test_predict_RDD = test_RDD.map(lambda x: (x[0], x[1]))\n"
   ]
  },
  {
   "cell_type": "code",
   "execution_count": 19,
   "metadata": {},
   "outputs": [],
   "source": [
    "#ALS参数配置\n",
    "seed = 5\n",
    "#迭代次数\n",
    "iterations = 10\n",
    "#正则系数\n",
    "regularization_param = 0.01\n",
    "#矩阵分解的秩rank(即是矩阵的最高阶非零子阵)\n",
    "ranks = [4, 8, 12]\n",
    "errors = [0, 0, 0]\n",
    "err = 0\n",
    "tolerance = 0.02\n",
    "\n",
    "#模型训练确认rank值（最小误差）\n",
    "min_error = float('inf')\n",
    "best_rank = -1\n",
    "best_iteration = -1\n",
    "for rank in ranks:\n",
    "    model = ALS.train(training_RDD, rank, seed=seed, iterations=iterations, lambda_=regularization_param)\n",
    "    predict = model.predictAll(validation_predict_RDD).map(lambda r: ((r[0], r[1]), r[2]))\n",
    "    rates_predictions = validation_RDD.map(lambda r: ((int(r[0]), int(r[1])), float(r[2]))).join(predict)\n",
    "    error = math.sqrt(rates_predictions.map(lambda r: (r[1][0] - r[1][1]) ** 2).mean())\n",
    "    errors[err] = error\n",
    "    err += 1\n",
    "    if error < min_error:\n",
    "        min_error = error\n",
    "        best_rank = rank"
   ]
  },
  {
   "cell_type": "code",
   "execution_count": 20,
   "metadata": {},
   "outputs": [],
   "source": [
    "#以最佳rank值新重训练模型\n",
    "model = ALS.train(training_RDD, best_rank, seed=seed, iterations=iterations, lambda_=regularization_param)\n",
    "#模型测试\n",
    "predictions = model.predictAll(test_predict_RDD).map(lambda r: ((r[0], r[1]), r[2]))\n",
    "\n",
    "rates_and_predictions = test_RDD.map(lambda r: ((int(r[0]), int(r[1])), float(r[2]))).join(predictions)"
   ]
  },
  {
   "cell_type": "code",
   "execution_count": 21,
   "metadata": {},
   "outputs": [
    {
     "name": "stdout",
     "output_type": "stream",
     "text": [
      "Model RMSE = 1.2785490567481572\n"
     ]
    }
   ],
   "source": [
    "#计算RMSE指标\n",
    "error = math.sqrt(rates_predictions.map(lambda r: (r[1][0] - r[1][1]) ** 2).mean())\n",
    "print('Model RMSE = %s' % error)\n"
   ]
  },
  {
   "cell_type": "code",
   "execution_count": 17,
   "metadata": {},
   "outputs": [
    {
     "name": "stdout",
     "output_type": "stream",
     "text": [
      "用户编号:76 对电影:10 的评分为:2.801511003072946\n"
     ]
    }
   ],
   "source": [
    "#预测某一用户对某一电影的评分\n",
    "user_id = 76\n",
    "movie_id = 10\n",
    "predictedRating = model.predict(user_id, movie_id)\n",
    "print(\"用户编号:\"+str(user_id)+\" 对电影:\"+str(movie_id)+\" 的评分为:\"+str(predictedRating))\n"
   ]
  },
  {
   "cell_type": "code",
   "execution_count": 18,
   "metadata": {},
   "outputs": [
    {
     "name": "stdout",
     "output_type": "stream",
     "text": [
      "向用户编号:76的用户推荐10部电影:\n",
      "Rating(user=76, product=67504, rating=6.145038516863403)\n",
      "Rating(user=76, product=7371, rating=5.799425615918739)\n",
      "Rating(user=76, product=2351, rating=5.769024042796536)\n",
      "Rating(user=76, product=2267, rating=5.626008433587019)\n",
      "Rating(user=76, product=390, rating=5.558889185840102)\n",
      "Rating(user=76, product=565, rating=5.558889185840102)\n",
      "Rating(user=76, product=31547, rating=5.530534662291334)\n",
      "Rating(user=76, product=8609, rating=5.530534662291334)\n",
      "Rating(user=76, product=80599, rating=5.530534662291334)\n",
      "Rating(user=76, product=5059, rating=5.530534662291334)\n"
     ]
    }
   ],
   "source": [
    "#向某一用户推荐10部电影\n",
    "topKRecs = model.recommendProducts(user_id, 10)\n",
    "print(\"向用户编号:\"+str(user_id)+\"的用户推荐10部电影:\")\n",
    "for rec in topKRecs:\n",
    "    print(rec)\n",
    "\n"
   ]
  }
 ],
 "metadata": {
  "kernelspec": {
   "display_name": "Python 3",
   "language": "python",
   "name": "python3"
  },
  "language_info": {
   "codemirror_mode": {
    "name": "ipython",
    "version": 3
   },
   "file_extension": ".py",
   "mimetype": "text/x-python",
   "name": "python",
   "nbconvert_exporter": "python",
   "pygments_lexer": "ipython3",
   "version": "3.7.4"
  }
 },
 "nbformat": 4,
 "nbformat_minor": 2
}
